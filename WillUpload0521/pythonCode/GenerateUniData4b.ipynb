{
 "cells": [
  {
   "cell_type": "code",
   "execution_count": 3,
   "metadata": {},
   "outputs": [],
   "source": [
    "import pandas as pd\n",
    "\n",
    "#Create the dataframe\n",
    "df = pd.read_csv('Top25UniV2.csv')\n",
    "\n",
    "df['count'] = 1\n",
    "\n",
    "df = df.loc[df['POSITION'].str.contains('DEAN')] #locates all rows with the string 'DEAN' in the position (i.e. Assistant Dean, Associate Dean, Dean)\n",
    "\n",
    "#Drop rows with count == 0\n",
    "\n",
    "\n",
    "# Change those with Position 2 to Position 3 (i.e. group positions 2 and 3 into one group)\n",
    "# df.loc[df['Position'] == 2, 'Position'] = 3\n",
    "# df.loc[df['Position'] == 3, 'Position'] = \"Head\"\n",
    "# df.loc[df['Position'] == 4, 'Position'] = \"Director\"\n",
    "# df.loc[df['Gender'] == 1, 'Gender'] = \"M\"\n",
    "# df.loc[df['Gender'] == 2, 'Gender'] = \"F\"\n",
    "\n",
    "#Group by School, Position, and count gender for each\n",
    "df = df.groupby(['SCHOOL','GENDER']).count()['count']\n",
    "# df.groupby(['DEPARTMENT']).count().to_csv('Departments.csv')\n",
    "\n",
    "# Export as csv\n",
    "df.to_csv('FigData4b.csv')"
   ]
  },
  {
   "cell_type": "code",
   "execution_count": null,
   "metadata": {},
   "outputs": [],
   "source": []
  }
 ],
 "metadata": {
  "kernelspec": {
   "display_name": "Python 3 (ipykernel)",
   "language": "python",
   "name": "python3"
  },
  "language_info": {
   "codemirror_mode": {
    "name": "ipython",
    "version": 3
   },
   "file_extension": ".py",
   "mimetype": "text/x-python",
   "name": "python",
   "nbconvert_exporter": "python",
   "pygments_lexer": "ipython3",
   "version": "3.9.7"
  }
 },
 "nbformat": 4,
 "nbformat_minor": 2
}
