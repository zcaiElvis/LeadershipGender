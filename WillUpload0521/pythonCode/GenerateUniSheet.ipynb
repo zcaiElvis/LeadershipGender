{
 "cells": [
  {
   "cell_type": "code",
   "execution_count": 1,
   "metadata": {},
   "outputs": [],
   "source": [
    "import pandas as pd\n",
    "\n",
    "#Create the dataframe\n",
    "df = pd.read_csv('Top25U.csv')\n",
    "\n",
    "#Remove extra columns\n",
    "df = df.drop(columns=['Name','Other','a','b','c','d','e'])\n",
    "\n",
    "#Drop empty rows\n",
    "df.dropna(axis=0, how='any', thresh=None, subset=None, inplace=True)\n",
    "\n",
    "#Rename Schools\n",
    "ranked_schools = ['Harvard','Johns H', 'UCSF','Duke','UToronto','UW','UPenn','Stanford','Columbia','MIT','UCLA','UMichigan','UPitt','UCSD','Yale','Emory','Cornell','WUStL','UNC','Vanderbilt','NWestern','UChicago','Boston U','McMaster','UBC']\n",
    "#Harvard\n",
    "df.loc[df['SCHOOL'] == 'john Hopkins University', 'SCHOOL'] = 'Johns H'\n",
    "#UCSF\n",
    "df.loc[df['SCHOOL'] == 'Duke University', 'SCHOOL'] = 'Duke'\n",
    "df.loc[df['SCHOOL'] == 'University of Toronto', 'SCHOOL'] = 'UToronto'\n",
    "df.loc[df['SCHOOL'] == 'University of Washington ', 'SCHOOL'] = 'UW'\n",
    "df.loc[df['SCHOOL'] == 'University of Pennsylvania ', 'SCHOOL'] = 'UPenn'\n",
    "#Stanford\n",
    "df.loc[df['SCHOOL'] == 'Columbia University', 'SCHOOL'] = 'Columbia'\n",
    "#MIT\n",
    "df.loc[df['SCHOOL'] == 'University of California, Los Angeles', 'SCHOOL'] = 'UCLA'\n",
    "df.loc[df['SCHOOL'] == 'University of Michigan ', 'SCHOOL'] = 'UMichigan'\n",
    "df.loc[df['SCHOOL'] == 'University of Pittsburg', 'SCHOOL'] = 'UPitt'\n",
    "df.loc[df['SCHOOL'] == 'University of California San Diego', 'SCHOOL'] = 'UCSD'\n",
    "df.loc[df['SCHOOL'] == 'Yale University', 'SCHOOL'] = 'Yale'\n",
    "df.loc[df['SCHOOL'] == 'Emory Univeristy', 'SCHOOL'] = 'Emory'\n",
    "df.loc[df['SCHOOL'] == 'Cornell University', 'SCHOOL'] = 'Cornell'\n",
    "df.loc[df['SCHOOL'] == 'Washington University in St. Louis', 'SCHOOL'] = 'WUStL'\n",
    "df.loc[df['SCHOOL'] == 'University of North Carolina Chapel Hill', 'SCHOOL'] = 'UNC'\n",
    "#Vanderbilt\n",
    "df.loc[df['SCHOOL'] == 'Northwestern University', 'SCHOOL'] = 'NWestern'\n",
    "df.loc[df['SCHOOL'] == 'University of Chicago ', 'SCHOOL'] = 'UChicago'\n",
    "df.loc[df['SCHOOL'] == 'Boston University', 'SCHOOL'] = 'Boston U'\n",
    "df.loc[df['SCHOOL'] == 'McMaster University', 'SCHOOL'] = 'McMaster'\n",
    "df.loc[df['SCHOOL'] == 'University of British Columbia', 'SCHOOL'] = 'UBC'\n",
    "\n",
    "#Export\n",
    "df.to_csv('Top25UniV2.csv', index=False)"
   ]
  },
  {
   "cell_type": "code",
   "execution_count": null,
   "metadata": {},
   "outputs": [],
   "source": []
  }
 ],
 "metadata": {
  "kernelspec": {
   "display_name": "Python 3 (ipykernel)",
   "language": "python",
   "name": "python3"
  },
  "language_info": {
   "codemirror_mode": {
    "name": "ipython",
    "version": 3
   },
   "file_extension": ".py",
   "mimetype": "text/x-python",
   "name": "python",
   "nbconvert_exporter": "python",
   "pygments_lexer": "ipython3",
   "version": "3.9.7"
  }
 },
 "nbformat": 4,
 "nbformat_minor": 2
}
