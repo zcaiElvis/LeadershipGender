{
 "cells": [
  {
   "cell_type": "code",
   "execution_count": 1,
   "metadata": {},
   "outputs": [],
   "source": [
    "import pandas as pd\n",
    "\n",
    "#Create the dataframe\n",
    "df = pd.read_csv('Top25M.csv')\n",
    "\n",
    "#Remove extra columns\n",
    "df = df.drop(columns=['1','2','Name','Position','a','b','c','d','e','f','g'])\n",
    "#Rename Position column header\n",
    "df = df.rename(columns={'Position.1':'Position'})\n",
    "#Drop empty rows\n",
    "df.dropna(axis=0, how='any', thresh=None, subset=None, inplace=True)\n",
    "\n",
    "#Rename Schools\n",
    "ranked_schools = ['Harvard','Johns H', 'UCSF','Duke','UToronto','UW','UPenn','Stanford','Columbia','MIT','UCLA','UMichigan','UPitt','UCSD','Yale','Emory','Cornell','WUStL','UNC','Vanderbilt','NWestern','UChicago','Boston U','McMaster','UBC']\n",
    "#Harvard\n",
    "df.loc[df['School'] == 'Johns Hopkins', 'School'] = 'Johns H'\n",
    "#UCSF\n",
    "#Duke\n",
    "df.loc[df['School'] == 'U of Toronto', 'School'] = 'UToronto'\n",
    "df.loc[df['School'] == 'U of Washington', 'School'] = 'UW'\n",
    "df.loc[df['School'] == 'U of Penn', 'School'] = 'UPenn'\n",
    "#Stanford\n",
    "#Columbia\n",
    "#MIT\n",
    "#UCLA\n",
    "df.loc[df['School'] == 'U of Michigan', 'School'] = 'UMichigan'\n",
    "df.loc[df['School'] == 'U Pitt', 'School'] = 'UPitt'\n",
    "df.loc[df['School'] == 'UC San Diego', 'School'] = 'UCSD'\n",
    "#Yale\n",
    "#Emory\n",
    "#Cornell\n",
    "df.loc[df['School'] == 'WUSTL', 'School'] = 'WUStL'\n",
    "df.loc[df['School'] == 'U of North C', 'School'] = 'UNC'\n",
    "#Vanderbilt\n",
    "df.loc[df['School'] == 'Northwestern', 'School'] = 'NWestern'\n",
    "df.loc[df['School'] == 'U Chicago', 'School'] = 'UChicago'\n",
    "#Boston U\n",
    "#McMaster\n",
    "#UBC\n",
    "\n",
    "#Export\n",
    "df.to_csv('Top25MedV2.csv', index=False)"
   ]
  },
  {
   "cell_type": "code",
   "execution_count": null,
   "metadata": {},
   "outputs": [],
   "source": []
  },
  {
   "cell_type": "code",
   "execution_count": null,
   "metadata": {},
   "outputs": [],
   "source": []
  }
 ],
 "metadata": {
  "kernelspec": {
   "display_name": "Python 3 (ipykernel)",
   "language": "python",
   "name": "python3"
  },
  "language_info": {
   "codemirror_mode": {
    "name": "ipython",
    "version": 3
   },
   "file_extension": ".py",
   "mimetype": "text/x-python",
   "name": "python",
   "nbconvert_exporter": "python",
   "pygments_lexer": "ipython3",
   "version": "3.9.7"
  }
 },
 "nbformat": 4,
 "nbformat_minor": 2
}
