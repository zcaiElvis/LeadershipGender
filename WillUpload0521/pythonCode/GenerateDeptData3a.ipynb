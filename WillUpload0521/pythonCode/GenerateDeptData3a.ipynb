{
 "cells": [
  {
   "cell_type": "code",
   "execution_count": 1,
   "metadata": {},
   "outputs": [],
   "source": [
    "# Renames original department names with new (simplified) names\n",
    "# import pandas\n",
    "import pandas as pd\n",
    " \n",
    "# Create names\n",
    "list_of_names = ['Top25UniV2.csv','Departments.csv']\n",
    " \n",
    "# Create list of dataframes\n",
    "dataframes_list = []\n",
    " \n",
    "# Append datasets into list\n",
    "for i in range(len(list_of_names)):\n",
    "    temp_df = pd.read_csv(list_of_names[i])\n",
    "    dataframes_list.append(temp_df)\n",
    "\n",
    "#ITERATION\n",
    "for df_index, df_row in dataframes_list[0].iterrows():\n",
    "    # Gets the old department name\n",
    "    old_dept_name = df_row['DEPARTMENT']\n",
    "\n",
    "    # Find the new department name\n",
    "    new_dept_name = dataframes_list[1].loc[dataframes_list[1]['DEPARTMENT'] == old_dept_name, 'NewDept'].iloc[0]\n",
    "    \n",
    "    # Replace old department name with new department name\n",
    "    df_row['DEPARTMENT'] = new_dept_name\n",
    "\n",
    "dataframes_list[0]['count'] = 1\n",
    "new_df = dataframes_list[0].groupby(['DEPARTMENT','POSITION', 'GENDER']).count()['count']\n",
    "#new_df = dataframes_list[0].groupby(['DEPARTMENT', 'GENDER']).count()['count']\n",
    "\n",
    "# Export to .csv\n",
    "# dataframes_list[0].to_csv('Top25UniV3Dept.csv', index=False)\n",
    "new_df.to_csv('FigData3a.csv', index=True)\n"
   ]
  },
  {
   "cell_type": "code",
   "execution_count": null,
   "metadata": {},
   "outputs": [],
   "source": []
  },
  {
   "cell_type": "code",
   "execution_count": null,
   "metadata": {},
   "outputs": [],
   "source": []
  }
 ],
 "metadata": {
  "kernelspec": {
   "display_name": "Python 3 (ipykernel)",
   "language": "python",
   "name": "python3"
  },
  "language_info": {
   "codemirror_mode": {
    "name": "ipython",
    "version": 3
   },
   "file_extension": ".py",
   "mimetype": "text/x-python",
   "name": "python",
   "nbconvert_exporter": "python",
   "pygments_lexer": "ipython3",
   "version": "3.9.7"
  }
 },
 "nbformat": 4,
 "nbformat_minor": 2
}
